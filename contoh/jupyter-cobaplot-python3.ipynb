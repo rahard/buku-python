{
 "cells": [
  {
   "cell_type": "code",
   "execution_count": null,
   "metadata": {},
   "outputs": [],
   "source": [
    "%matplotlib notebook\n",
    "import numpy as np\n",
    "import matplotlib.pyplot as plt\n",
    "#a = 0.25\n",
    "#b = 0.75\n",
    "a = 3.0\n",
    "b = 4.0\n",
    "jumlah_titik = 300\n",
    "# buat dua list yang masih kosong\n",
    "x_point = []\n",
    "y_point = []\n",
    "g_point = []\n",
    "for i in range(jumlah_titik):\n",
    "    x = np.random.normal(0.0,0.4)\n",
    "    y = a*x + b + np.random.normal(0.0,0.1)\n",
    "    g = a*x + b\n",
    "    x_point.append([x])\n",
    "    y_point.append([y])\n",
    "    g_point.append([g])\n",
    "plt.plot(x_point,y_point,'o',label='Random Data')\n",
    "plt.plot(x_point, g_point, 'r', label='Fitted line')\n",
    "plt.legend()\n",
    "plt.show()\n",
    "\n",
    "# save into CSV file\n",
    "np.savetxt(\"linear-regression.csv\", np.column_stack([x_point, y_point]), fmt='%.5f', delimiter=', ')"
   ]
  },
  {
   "cell_type": "code",
   "execution_count": null,
   "metadata": {},
   "outputs": [],
   "source": [
    "mu = 0\n",
    "sigma = 0.1\n",
    "for i in range(10):\n",
    "    x = np.random.normal(mu,sigma,10)\n",
    "    print (x)\n",
    "    "
   ]
  },
  {
   "cell_type": "code",
   "execution_count": null,
   "metadata": {},
   "outputs": [],
   "source": [
    "# read saved CSV file\n",
    "# and plot it back\n",
    "%matplotlib notebook\n",
    "import numpy as np\n",
    "import matplotlib.pyplot as plt\n",
    "\n",
    "my_csv = np.genfromtxt('linear-regression.csv', delimiter=',')\n",
    "xp, yp = my_csv.transpose()\n",
    "# print(xp, yp)\n",
    "plt.plot(xp,yp,'o',label='Generated Data')\n",
    "plt.legend()\n",
    "plt.show()"
   ]
  },
  {
   "cell_type": "code",
   "execution_count": 2,
   "metadata": {},
   "outputs": [
    {
     "name": "stdout",
     "output_type": "stream",
     "text": [
      "Gradient and intercept 2.989729680151574 3.9936402132486015\n",
      "R-squared 0.9928784983031809\n",
      "p-value 4.94e-322\n"
     ]
    }
   ],
   "source": [
    "#read CSV of data and calculate a and b\n",
    "# y = ax + b\n",
    "import numpy as np\n",
    "# do not forget to install scipy first: python3 -m pip install scipy\n",
    "from scipy import stats\n",
    "\n",
    "my_csv = np.genfromtxt('linear-regression.csv', delimiter=',')\n",
    "xp, yp = my_csv.transpose()\n",
    "gradient,intercept,r_value,p_value,std_err=stats.linregress(xp,yp)\n",
    "print(\"Gradient and intercept\",gradient,intercept)\n",
    "print(\"R-squared\",r_value**2)\n",
    "print(\"p-value\",p_value)\n",
    "# borrowed from https://www.datasciencecentral.com/profiles/blogs/linear-regression-in-python-use-of-numpy-scipy-and-statsmodels"
   ]
  },
  {
   "cell_type": "code",
   "execution_count": null,
   "metadata": {},
   "outputs": [],
   "source": []
  },
  {
   "cell_type": "code",
   "execution_count": null,
   "metadata": {},
   "outputs": [],
   "source": []
  }
 ],
 "metadata": {
  "kernelspec": {
   "display_name": "Python 3",
   "language": "python",
   "name": "python3"
  },
  "language_info": {
   "codemirror_mode": {
    "name": "ipython",
    "version": 3
   },
   "file_extension": ".py",
   "mimetype": "text/x-python",
   "name": "python",
   "nbconvert_exporter": "python",
   "pygments_lexer": "ipython3",
   "version": "3.6.5"
  }
 },
 "nbformat": 4,
 "nbformat_minor": 2
}
